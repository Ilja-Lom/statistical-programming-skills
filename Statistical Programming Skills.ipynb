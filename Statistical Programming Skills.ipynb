{
 "cells": [
  {
   "cell_type": "markdown",
   "metadata": {},
   "source": [
    "Create a function that, given a mass (kg) and height (m), returns the BMI of the individual"
   ]
  },
  {
   "cell_type": "code",
   "execution_count": 2,
   "metadata": {},
   "outputs": [
    {
     "name": "stdout",
     "output_type": "stream",
     "text": [
      "Your BMI is: 17.30\n",
      "Your BMI is: None\n"
     ]
    }
   ],
   "source": [
    "#the first values are the height of the person (m), whereas the second values are the weight (kg)\n",
    "height_weight_values = [(1.89,87), (1.85,None), (1.95,104), (1.49,61), (1.89,104), (1.47,92), (1.54,111), (1.74,90), (1.69,None), (1.95,81)]\n",
    "\n",
    "# Creating a function to calculate the BMI for a person, given the weight, and the height\n",
    "def calculate_bmi(height, weight):\n",
    "    # If the height, or Weight values are 'None', error is returned. So they are not processed.\n",
    "    if height == None or weight == None:\n",
    "        return(None)\n",
    "    else:\n",
    "        bmi = weight/(height ** 2)\n",
    "        return(('%.2f' % bmi)) # return bmi to 2 decimal places\n",
    "\n",
    "# Running a test with a height of 1.7m, and a weight of 50kg\n",
    "print(f\"Your BMI is: {calculate_bmi(1.7, 50)}\")\n",
    "# Returns 17.30\n",
    "\n",
    "# Additional test if one of the values is 'None'\n",
    "print(f\"Your BMI is: {calculate_bmi(1.7, None)}\")\n",
    "# Returns 'None'\n"
   ]
  },
  {
   "cell_type": "markdown",
   "metadata": {},
   "source": [
    "Iterate over the height-weight values list to calculate the BMI using the calculate_bmi function"
   ]
  },
  {
   "cell_type": "code",
   "execution_count": 5,
   "metadata": {},
   "outputs": [
    {
     "name": "stdout",
     "output_type": "stream",
     "text": [
      "[24.36, None, 27.35, 27.48, 29.11, 42.57, 46.8, 29.73, None, 21.3]\n"
     ]
    }
   ],
   "source": [
    "bmi_values = [] # stores the bmi values after processing height and weight\n",
    "\n",
    "\"\"\"Function to calculate the BMI, given height and weight\"\"\"\n",
    "def calculate_bmi_2(height, weight):\n",
    "    if height == None or weight == None:\n",
    "        return(None)\n",
    "    else:\n",
    "        bmi = weight/(height ** 2)\n",
    "        return(float('%.2f' % bmi)) # return bmi to 2 decimal places. float required, otherwise string is returned\n",
    "\n",
    "\"\"\"Extracting the height and weight from each element in the height_weight_values\"\"\"\n",
    "for element in height_weight_values:\n",
    "    height = element[0]\n",
    "    weight = element[1]\n",
    "    bmi_values.append(calculate_bmi_2(height, weight))\n",
    "\n",
    "\"\"\"Returning results\"\"\"\n",
    "print(bmi_values)"
   ]
  },
  {
   "cell_type": "markdown",
   "metadata": {},
   "source": [
    "Classify the BMI values into categories.\n",
    "\n",
    "Where a BMI of:\n",
    "- <18.5 is underweight.\n",
    "- 18.5< bmi >25 is a healthy BMI.\n",
    "- 25< bmi < 30 is overweight.\n",
    "- 30< is obese."
   ]
  },
  {
   "cell_type": "code",
   "execution_count": 6,
   "metadata": {},
   "outputs": [
    {
     "name": "stdout",
     "output_type": "stream",
     "text": [
      "Enter your BMI: 56\n",
      "Your BMI category is: 3\n"
     ]
    }
   ],
   "source": [
    "\"\"\"Finding the BMI category given a BMI\"\"\"\n",
    "def lookup_bmi_category(bmi_value):\n",
    "    if bmi_value == None:\n",
    "        return(None)\n",
    "    elif bmi_value < 18.5:\n",
    "        return(0) # Underweight\n",
    "    elif 18.5 < bmi_value < 25:\n",
    "        return(1) # Healthy weight\n",
    "    elif 25 < bmi_value < 30:\n",
    "        return(2) # Overweight\n",
    "    elif bmi_value > 30:\n",
    "        return(3) # Obese\n",
    "    else:\n",
    "        return(None)\n",
    "\n",
    "bmi = float(input(\"Enter your BMI: \")) # Taking user input for BMI\n",
    "bmi_category = lookup_bmi_category(bmi) # Calls lookup_bmi_category function, parses 'bmi'\n",
    "print(f\"Your BMI category is: {bmi_category}\") # Prints a string, followed by the corresponding BMI category\n"
   ]
  },
  {
   "cell_type": "markdown",
   "metadata": {},
   "source": [
    "Provide tests for the returned BMI categories."
   ]
  },
  {
   "cell_type": "code",
   "execution_count": 7,
   "metadata": {},
   "outputs": [
    {
     "name": "stdout",
     "output_type": "stream",
     "text": [
      "True\n",
      "True\n",
      "True\n",
      "True\n"
     ]
    }
   ],
   "source": [
    "# Testing the categories returned\n",
    "print(lookup_bmi_category(34) == 3)\n",
    "print(lookup_bmi_category(14) == 0)\n",
    "print(lookup_bmi_category(70) == 3)\n",
    "print(lookup_bmi_category(24) == 1)\n"
   ]
  },
  {
   "cell_type": "markdown",
   "metadata": {},
   "source": [
    "Iterate over the bmi_values list, and categorise each BMI reading."
   ]
  },
  {
   "cell_type": "code",
   "execution_count": 8,
   "metadata": {},
   "outputs": [
    {
     "name": "stdout",
     "output_type": "stream",
     "text": [
      "[1, None, 2, 2, 2, 3, 3, 2, None, 1]\n"
     ]
    }
   ],
   "source": [
    "bmi_categories = []\n",
    "for value in bmi_values:\n",
    "    bmi_categories.append(lookup_bmi_category(value))\n",
    "    \n",
    "print(bmi_categories)"
   ]
  },
  {
   "cell_type": "markdown",
   "metadata": {},
   "source": [
    "Iterate over the bmi_categories list, and highlight the BMI values that are classified as obese."
   ]
  },
  {
   "cell_type": "code",
   "execution_count": 9,
   "metadata": {},
   "outputs": [
    {
     "name": "stdout",
     "output_type": "stream",
     "text": [
      "[False, None, False, False, False, True, True, False, None, False]\n"
     ]
    }
   ],
   "source": [
    "obese_list = []\n",
    "\n",
    "for category in bmi_categories:\n",
    "    if category == 3:\n",
    "        obese_list.append(True)\n",
    "    elif category == 1 or category == 2:\n",
    "        obese_list.append(False)\n",
    "    else:\n",
    "        obese_list.append(None)\n",
    "        \n",
    "print(obese_list)"
   ]
  },
  {
   "cell_type": "markdown",
   "metadata": {},
   "source": [
    "Return:\n",
    "- The total number of people in the list;\n",
    "- Number of obese people;\n",
    "- Number of non-obese people."
   ]
  },
  {
   "cell_type": "code",
   "execution_count": 10,
   "metadata": {},
   "outputs": [
    {
     "name": "stdout",
     "output_type": "stream",
     "text": [
      "Total number of people in obese_list: 10\n",
      "Number of obese people in obese_list: 2\n",
      "Number of not obese people in obese_list: 6\n"
     ]
    }
   ],
   "source": [
    "# Total number of people in obese_list\n",
    "total_num = len(obese_list)\n",
    "\n",
    "# Number of obese people in obese_list\n",
    "obese_num = 0\n",
    "not_obese = 0\n",
    "for value in obese_list:\n",
    "    if value == True:\n",
    "        obese_num += 1\n",
    "    elif value == False:\n",
    "        not_obese += 1\n",
    "\n",
    "print(f\"Total number of people in obese_list: {total_num}\")\n",
    "print(f\"Number of obese people in obese_list: {obese_num}\")\n",
    "print(f\"Number of not obese people in obese_list: {not_obese}\")"
   ]
  },
  {
   "cell_type": "markdown",
   "metadata": {},
   "source": [
    "By slicing the obese_list, return:\n",
    "- The first half;\n",
    "- The second half;\n",
    "- The whole list apart from the first and last three values."
   ]
  },
  {
   "cell_type": "code",
   "execution_count": 12,
   "metadata": {},
   "outputs": [
    {
     "name": "stdout",
     "output_type": "stream",
     "text": [
      "[False, None, False, False, False]\n",
      "[True, True, False, None, False]\n",
      "[False, False, True, True]\n"
     ]
    }
   ],
   "source": [
    "# Printing the first half of obese_list\n",
    "print(obese_list[:5])\n",
    "\n",
    "# Printing the latter half of obese_list\n",
    "print(obese_list[5:])\n",
    "\n",
    "# Printing all except first 3, and last 3 values in obese_list\n",
    "print(obese_list[3:-3])"
   ]
  },
  {
   "cell_type": "markdown",
   "metadata": {},
   "source": [
    "Import Pandas, and load the dataset"
   ]
  },
  {
   "cell_type": "code",
   "execution_count": 5,
   "metadata": {},
   "outputs": [],
   "source": [
    "# importing pandas\n",
    "import pandas as pd\n",
    "\n",
    "# setting directory\n",
    "directory = \"\"\n",
    "\n",
    "# loading dataset, and assigning to a variable\n",
    "df = pd.read_csv(f\"{directory}\\\\heights-weights-bmis.csv\")\n"
   ]
  },
  {
   "cell_type": "markdown",
   "metadata": {},
   "source": [
    "Read the first three rows of the loaded dataset"
   ]
  },
  {
   "cell_type": "code",
   "execution_count": 14,
   "metadata": {},
   "outputs": [
    {
     "data": {
      "text/html": [
       "<div>\n",
       "<style scoped>\n",
       "    .dataframe tbody tr th:only-of-type {\n",
       "        vertical-align: middle;\n",
       "    }\n",
       "\n",
       "    .dataframe tbody tr th {\n",
       "        vertical-align: top;\n",
       "    }\n",
       "\n",
       "    .dataframe thead th {\n",
       "        text-align: right;\n",
       "    }\n",
       "</style>\n",
       "<table border=\"1\" class=\"dataframe\">\n",
       "  <thead>\n",
       "    <tr style=\"text-align: right;\">\n",
       "      <th></th>\n",
       "      <th>Gender</th>\n",
       "      <th>Height</th>\n",
       "      <th>Weight</th>\n",
       "      <th>BMI</th>\n",
       "      <th>Category</th>\n",
       "    </tr>\n",
       "  </thead>\n",
       "  <tbody>\n",
       "    <tr>\n",
       "      <th>0</th>\n",
       "      <td>Male</td>\n",
       "      <td>NaN</td>\n",
       "      <td>96.0</td>\n",
       "      <td>NaN</td>\n",
       "      <td>NaN</td>\n",
       "    </tr>\n",
       "    <tr>\n",
       "      <th>1</th>\n",
       "      <td>Male</td>\n",
       "      <td>189.0</td>\n",
       "      <td>87.0</td>\n",
       "      <td>24.36</td>\n",
       "      <td>1.0</td>\n",
       "    </tr>\n",
       "    <tr>\n",
       "      <th>2</th>\n",
       "      <td>Female</td>\n",
       "      <td>185.0</td>\n",
       "      <td>110.0</td>\n",
       "      <td>32.14</td>\n",
       "      <td>3.0</td>\n",
       "    </tr>\n",
       "  </tbody>\n",
       "</table>\n",
       "</div>"
      ],
      "text/plain": [
       "   Gender  Height  Weight    BMI  Category\n",
       "0    Male     NaN    96.0    NaN       NaN\n",
       "1    Male   189.0    87.0  24.36       1.0\n",
       "2  Female   185.0   110.0  32.14       3.0"
      ]
     },
     "execution_count": 14,
     "metadata": {},
     "output_type": "execute_result"
    }
   ],
   "source": [
    "# returning the first three rows\n",
    "df[:3]"
   ]
  },
  {
   "cell_type": "markdown",
   "metadata": {},
   "source": [
    "Return the last three rows of the loaded dataset"
   ]
  },
  {
   "cell_type": "code",
   "execution_count": 15,
   "metadata": {},
   "outputs": [
    {
     "data": {
      "text/html": [
       "<div>\n",
       "<style scoped>\n",
       "    .dataframe tbody tr th:only-of-type {\n",
       "        vertical-align: middle;\n",
       "    }\n",
       "\n",
       "    .dataframe tbody tr th {\n",
       "        vertical-align: top;\n",
       "    }\n",
       "\n",
       "    .dataframe thead th {\n",
       "        text-align: right;\n",
       "    }\n",
       "</style>\n",
       "<table border=\"1\" class=\"dataframe\">\n",
       "  <thead>\n",
       "    <tr style=\"text-align: right;\">\n",
       "      <th></th>\n",
       "      <th>Gender</th>\n",
       "      <th>Height</th>\n",
       "      <th>Weight</th>\n",
       "      <th>BMI</th>\n",
       "      <th>Category</th>\n",
       "    </tr>\n",
       "  </thead>\n",
       "  <tbody>\n",
       "    <tr>\n",
       "      <th>497</th>\n",
       "      <td>Female</td>\n",
       "      <td>141.0</td>\n",
       "      <td>136.0</td>\n",
       "      <td>68.41</td>\n",
       "      <td>3.0</td>\n",
       "    </tr>\n",
       "    <tr>\n",
       "      <th>498</th>\n",
       "      <td>Male</td>\n",
       "      <td>150.0</td>\n",
       "      <td>95.0</td>\n",
       "      <td>42.22</td>\n",
       "      <td>3.0</td>\n",
       "    </tr>\n",
       "    <tr>\n",
       "      <th>499</th>\n",
       "      <td>Male</td>\n",
       "      <td>173.0</td>\n",
       "      <td>131.0</td>\n",
       "      <td>43.77</td>\n",
       "      <td>3.0</td>\n",
       "    </tr>\n",
       "  </tbody>\n",
       "</table>\n",
       "</div>"
      ],
      "text/plain": [
       "     Gender  Height  Weight    BMI  Category\n",
       "497  Female   141.0   136.0  68.41       3.0\n",
       "498    Male   150.0    95.0  42.22       3.0\n",
       "499    Male   173.0   131.0  43.77       3.0"
      ]
     },
     "execution_count": 15,
     "metadata": {},
     "output_type": "execute_result"
    }
   ],
   "source": [
    "# returning the last three rows\n",
    "df[-3:]"
   ]
  },
  {
   "cell_type": "markdown",
   "metadata": {},
   "source": [
    "Return the column names and their corresponding data types"
   ]
  },
  {
   "cell_type": "code",
   "execution_count": 16,
   "metadata": {},
   "outputs": [
    {
     "data": {
      "text/plain": [
       "Gender       object\n",
       "Height      float64\n",
       "Weight      float64\n",
       "BMI         float64\n",
       "Category    float64\n",
       "dtype: object"
      ]
     },
     "execution_count": 16,
     "metadata": {},
     "output_type": "execute_result"
    }
   ],
   "source": [
    "# returning column names and data types\n",
    "df.dtypes"
   ]
  },
  {
   "cell_type": "markdown",
   "metadata": {},
   "source": [
    "Provide descriptive statistics for the dataframe"
   ]
  },
  {
   "cell_type": "code",
   "execution_count": 17,
   "metadata": {},
   "outputs": [
    {
     "data": {
      "text/html": [
       "<div>\n",
       "<style scoped>\n",
       "    .dataframe tbody tr th:only-of-type {\n",
       "        vertical-align: middle;\n",
       "    }\n",
       "\n",
       "    .dataframe tbody tr th {\n",
       "        vertical-align: top;\n",
       "    }\n",
       "\n",
       "    .dataframe thead th {\n",
       "        text-align: right;\n",
       "    }\n",
       "</style>\n",
       "<table border=\"1\" class=\"dataframe\">\n",
       "  <thead>\n",
       "    <tr style=\"text-align: right;\">\n",
       "      <th></th>\n",
       "      <th>Height</th>\n",
       "      <th>Weight</th>\n",
       "      <th>BMI</th>\n",
       "      <th>Category</th>\n",
       "    </tr>\n",
       "  </thead>\n",
       "  <tbody>\n",
       "    <tr>\n",
       "      <th>count</th>\n",
       "      <td>499.000000</td>\n",
       "      <td>498.000000</td>\n",
       "      <td>497.000000</td>\n",
       "      <td>497.000000</td>\n",
       "    </tr>\n",
       "    <tr>\n",
       "      <th>mean</th>\n",
       "      <td>169.935872</td>\n",
       "      <td>105.887550</td>\n",
       "      <td>37.717928</td>\n",
       "      <td>2.394366</td>\n",
       "    </tr>\n",
       "    <tr>\n",
       "      <th>std</th>\n",
       "      <td>16.390684</td>\n",
       "      <td>32.356842</td>\n",
       "      <td>13.970653</td>\n",
       "      <td>0.955359</td>\n",
       "    </tr>\n",
       "    <tr>\n",
       "      <th>min</th>\n",
       "      <td>140.000000</td>\n",
       "      <td>50.000000</td>\n",
       "      <td>12.750000</td>\n",
       "      <td>0.000000</td>\n",
       "    </tr>\n",
       "    <tr>\n",
       "      <th>25%</th>\n",
       "      <td>156.000000</td>\n",
       "      <td>80.000000</td>\n",
       "      <td>27.100000</td>\n",
       "      <td>2.000000</td>\n",
       "    </tr>\n",
       "    <tr>\n",
       "      <th>50%</th>\n",
       "      <td>170.000000</td>\n",
       "      <td>105.500000</td>\n",
       "      <td>36.950000</td>\n",
       "      <td>3.000000</td>\n",
       "    </tr>\n",
       "    <tr>\n",
       "      <th>75%</th>\n",
       "      <td>184.000000</td>\n",
       "      <td>136.000000</td>\n",
       "      <td>46.290000</td>\n",
       "      <td>3.000000</td>\n",
       "    </tr>\n",
       "    <tr>\n",
       "      <th>max</th>\n",
       "      <td>199.000000</td>\n",
       "      <td>160.000000</td>\n",
       "      <td>78.850000</td>\n",
       "      <td>3.000000</td>\n",
       "    </tr>\n",
       "  </tbody>\n",
       "</table>\n",
       "</div>"
      ],
      "text/plain": [
       "           Height      Weight         BMI    Category\n",
       "count  499.000000  498.000000  497.000000  497.000000\n",
       "mean   169.935872  105.887550   37.717928    2.394366\n",
       "std     16.390684   32.356842   13.970653    0.955359\n",
       "min    140.000000   50.000000   12.750000    0.000000\n",
       "25%    156.000000   80.000000   27.100000    2.000000\n",
       "50%    170.000000  105.500000   36.950000    3.000000\n",
       "75%    184.000000  136.000000   46.290000    3.000000\n",
       "max    199.000000  160.000000   78.850000    3.000000"
      ]
     },
     "execution_count": 17,
     "metadata": {},
     "output_type": "execute_result"
    }
   ],
   "source": [
    "# descriptive statistics for the dataframe\n",
    "df.describe()"
   ]
  },
  {
   "cell_type": "markdown",
   "metadata": {},
   "source": [
    "Return each value found within the category column, and return the number of times that value is found."
   ]
  },
  {
   "cell_type": "code",
   "execution_count": 14,
   "metadata": {},
   "outputs": [
    {
     "data": {
      "text/plain": [
       "3.0    329\n",
       "2.0     69\n",
       "1.0     65\n",
       "0.0     34\n",
       "Name: Category, dtype: int64"
      ]
     },
     "execution_count": 14,
     "metadata": {},
     "output_type": "execute_result"
    }
   ],
   "source": [
    "# generating a pandas series, and applying a count method\n",
    "pd.Series(df[\"Category\"]).value_counts()"
   ]
  },
  {
   "cell_type": "markdown",
   "metadata": {},
   "source": [
    "Return the first 5 rows of the category column."
   ]
  },
  {
   "cell_type": "code",
   "execution_count": 19,
   "metadata": {},
   "outputs": [
    {
     "name": "stdout",
     "output_type": "stream",
     "text": [
      "0    NaN\n",
      "1    1.0\n",
      "2    3.0\n",
      "3    2.0\n",
      "4    2.0\n",
      "Name: Category, dtype: float64\n"
     ]
    }
   ],
   "source": [
    "# printing the first 5 values of the 'Category' column\n",
    "print(df.Category.iloc[:5])"
   ]
  },
  {
   "cell_type": "markdown",
   "metadata": {},
   "source": [
    "Return the first 10 gender and BMI rows for which the BMI category is 3. "
   ]
  },
  {
   "cell_type": "code",
   "execution_count": 16,
   "metadata": {},
   "outputs": [
    {
     "data": {
      "text/html": [
       "<div>\n",
       "<style scoped>\n",
       "    .dataframe tbody tr th:only-of-type {\n",
       "        vertical-align: middle;\n",
       "    }\n",
       "\n",
       "    .dataframe tbody tr th {\n",
       "        vertical-align: top;\n",
       "    }\n",
       "\n",
       "    .dataframe thead th {\n",
       "        text-align: right;\n",
       "    }\n",
       "</style>\n",
       "<table border=\"1\" class=\"dataframe\">\n",
       "  <thead>\n",
       "    <tr style=\"text-align: right;\">\n",
       "      <th></th>\n",
       "      <th>Gender</th>\n",
       "      <th>BMI</th>\n",
       "    </tr>\n",
       "  </thead>\n",
       "  <tbody>\n",
       "    <tr>\n",
       "      <th>2</th>\n",
       "      <td>Female</td>\n",
       "      <td>32.14</td>\n",
       "    </tr>\n",
       "    <tr>\n",
       "      <th>6</th>\n",
       "      <td>Male</td>\n",
       "      <td>42.57</td>\n",
       "    </tr>\n",
       "    <tr>\n",
       "      <th>7</th>\n",
       "      <td>Male</td>\n",
       "      <td>46.80</td>\n",
       "    </tr>\n",
       "    <tr>\n",
       "      <th>9</th>\n",
       "      <td>Female</td>\n",
       "      <td>36.06</td>\n",
       "    </tr>\n",
       "    <tr>\n",
       "      <th>11</th>\n",
       "      <td>Female</td>\n",
       "      <td>31.64</td>\n",
       "    </tr>\n",
       "    <tr>\n",
       "      <th>15</th>\n",
       "      <td>Female</td>\n",
       "      <td>45.71</td>\n",
       "    </tr>\n",
       "    <tr>\n",
       "      <th>16</th>\n",
       "      <td>Female</td>\n",
       "      <td>44.63</td>\n",
       "    </tr>\n",
       "    <tr>\n",
       "      <th>17</th>\n",
       "      <td>Male</td>\n",
       "      <td>65.82</td>\n",
       "    </tr>\n",
       "    <tr>\n",
       "      <th>18</th>\n",
       "      <td>Male</td>\n",
       "      <td>69.93</td>\n",
       "    </tr>\n",
       "    <tr>\n",
       "      <th>19</th>\n",
       "      <td>Male</td>\n",
       "      <td>46.98</td>\n",
       "    </tr>\n",
       "  </tbody>\n",
       "</table>\n",
       "</div>"
      ],
      "text/plain": [
       "    Gender    BMI\n",
       "2   Female  32.14\n",
       "6     Male  42.57\n",
       "7     Male  46.80\n",
       "9   Female  36.06\n",
       "11  Female  31.64\n",
       "15  Female  45.71\n",
       "16  Female  44.63\n",
       "17    Male  65.82\n",
       "18    Male  69.93\n",
       "19    Male  46.98"
      ]
     },
     "execution_count": 16,
     "metadata": {},
     "output_type": "execute_result"
    }
   ],
   "source": [
    "# printing Gender, and BMI, for the first 10 rows with a category of 3\n",
    "df.loc[df.Category == 3, [\"Gender\", \"BMI\"]].head(10)"
   ]
  },
  {
   "cell_type": "markdown",
   "metadata": {},
   "source": [
    "Return the height and weight rows for which the gender is male, and the height of the individual is greater than 195cm."
   ]
  },
  {
   "cell_type": "code",
   "execution_count": 17,
   "metadata": {},
   "outputs": [
    {
     "data": {
      "text/html": [
       "<div>\n",
       "<style scoped>\n",
       "    .dataframe tbody tr th:only-of-type {\n",
       "        vertical-align: middle;\n",
       "    }\n",
       "\n",
       "    .dataframe tbody tr th {\n",
       "        vertical-align: top;\n",
       "    }\n",
       "\n",
       "    .dataframe thead th {\n",
       "        text-align: right;\n",
       "    }\n",
       "</style>\n",
       "<table border=\"1\" class=\"dataframe\">\n",
       "  <thead>\n",
       "    <tr style=\"text-align: right;\">\n",
       "      <th></th>\n",
       "      <th>Height</th>\n",
       "      <th>Weight</th>\n",
       "    </tr>\n",
       "  </thead>\n",
       "  <tbody>\n",
       "    <tr>\n",
       "      <th>54</th>\n",
       "      <td>196.0</td>\n",
       "      <td>116.0</td>\n",
       "    </tr>\n",
       "    <tr>\n",
       "      <th>85</th>\n",
       "      <td>198.0</td>\n",
       "      <td>50.0</td>\n",
       "    </tr>\n",
       "    <tr>\n",
       "      <th>94</th>\n",
       "      <td>197.0</td>\n",
       "      <td>119.0</td>\n",
       "    </tr>\n",
       "    <tr>\n",
       "      <th>100</th>\n",
       "      <td>199.0</td>\n",
       "      <td>156.0</td>\n",
       "    </tr>\n",
       "    <tr>\n",
       "      <th>145</th>\n",
       "      <td>197.0</td>\n",
       "      <td>125.0</td>\n",
       "    </tr>\n",
       "    <tr>\n",
       "      <th>160</th>\n",
       "      <td>199.0</td>\n",
       "      <td>99.0</td>\n",
       "    </tr>\n",
       "    <tr>\n",
       "      <th>174</th>\n",
       "      <td>197.0</td>\n",
       "      <td>149.0</td>\n",
       "    </tr>\n",
       "    <tr>\n",
       "      <th>308</th>\n",
       "      <td>196.0</td>\n",
       "      <td>69.0</td>\n",
       "    </tr>\n",
       "    <tr>\n",
       "      <th>351</th>\n",
       "      <td>197.0</td>\n",
       "      <td>88.0</td>\n",
       "    </tr>\n",
       "    <tr>\n",
       "      <th>469</th>\n",
       "      <td>198.0</td>\n",
       "      <td>109.0</td>\n",
       "    </tr>\n",
       "    <tr>\n",
       "      <th>488</th>\n",
       "      <td>198.0</td>\n",
       "      <td>136.0</td>\n",
       "    </tr>\n",
       "  </tbody>\n",
       "</table>\n",
       "</div>"
      ],
      "text/plain": [
       "     Height  Weight\n",
       "54    196.0   116.0\n",
       "85    198.0    50.0\n",
       "94    197.0   119.0\n",
       "100   199.0   156.0\n",
       "145   197.0   125.0\n",
       "160   199.0    99.0\n",
       "174   197.0   149.0\n",
       "308   196.0    69.0\n",
       "351   197.0    88.0\n",
       "469   198.0   109.0\n",
       "488   198.0   136.0"
      ]
     },
     "execution_count": 17,
     "metadata": {},
     "output_type": "execute_result"
    }
   ],
   "source": [
    "# Question 2.6\n",
    "\n",
    "# print the height, and weight of males with a height greater than 195cm\n",
    "df.loc[(df.Gender == \"Male\") & (df.Height > 195), [\"Height\", \"Weight\"]]"
   ]
  },
  {
   "cell_type": "markdown",
   "metadata": {},
   "source": [
    "Group the dataframe by gender and BMI category, then return the mean of the height, weight, and BMI."
   ]
  },
  {
   "cell_type": "code",
   "execution_count": 18,
   "metadata": {},
   "outputs": [
    {
     "data": {
      "text/html": [
       "<div>\n",
       "<style scoped>\n",
       "    .dataframe tbody tr th:only-of-type {\n",
       "        vertical-align: middle;\n",
       "    }\n",
       "\n",
       "    .dataframe tbody tr th {\n",
       "        vertical-align: top;\n",
       "    }\n",
       "\n",
       "    .dataframe thead th {\n",
       "        text-align: right;\n",
       "    }\n",
       "</style>\n",
       "<table border=\"1\" class=\"dataframe\">\n",
       "  <thead>\n",
       "    <tr style=\"text-align: right;\">\n",
       "      <th></th>\n",
       "      <th></th>\n",
       "      <th>Height</th>\n",
       "      <th>Weight</th>\n",
       "      <th>BMI</th>\n",
       "    </tr>\n",
       "    <tr>\n",
       "      <th>Gender</th>\n",
       "      <th>Category</th>\n",
       "      <th></th>\n",
       "      <th></th>\n",
       "      <th></th>\n",
       "    </tr>\n",
       "  </thead>\n",
       "  <tbody>\n",
       "    <tr>\n",
       "      <th rowspan=\"4\" valign=\"top\">Female</th>\n",
       "      <th>0.0</th>\n",
       "      <td>187.076923</td>\n",
       "      <td>55.153846</td>\n",
       "      <td>15.840769</td>\n",
       "    </tr>\n",
       "    <tr>\n",
       "      <th>1.0</th>\n",
       "      <td>171.894737</td>\n",
       "      <td>65.000000</td>\n",
       "      <td>21.913158</td>\n",
       "    </tr>\n",
       "    <tr>\n",
       "      <th>2.0</th>\n",
       "      <td>177.027027</td>\n",
       "      <td>86.702703</td>\n",
       "      <td>27.462973</td>\n",
       "    </tr>\n",
       "    <tr>\n",
       "      <th>3.0</th>\n",
       "      <td>167.138554</td>\n",
       "      <td>123.192771</td>\n",
       "      <td>44.772048</td>\n",
       "    </tr>\n",
       "    <tr>\n",
       "      <th rowspan=\"4\" valign=\"top\">Male</th>\n",
       "      <th>0.0</th>\n",
       "      <td>186.095238</td>\n",
       "      <td>57.380952</td>\n",
       "      <td>16.578571</td>\n",
       "    </tr>\n",
       "    <tr>\n",
       "      <th>1.0</th>\n",
       "      <td>177.259259</td>\n",
       "      <td>71.259259</td>\n",
       "      <td>22.582222</td>\n",
       "    </tr>\n",
       "    <tr>\n",
       "      <th>2.0</th>\n",
       "      <td>175.406250</td>\n",
       "      <td>85.750000</td>\n",
       "      <td>27.671250</td>\n",
       "    </tr>\n",
       "    <tr>\n",
       "      <th>3.0</th>\n",
       "      <td>165.122699</td>\n",
       "      <td>122.196319</td>\n",
       "      <td>45.494110</td>\n",
       "    </tr>\n",
       "  </tbody>\n",
       "</table>\n",
       "</div>"
      ],
      "text/plain": [
       "                     Height      Weight        BMI\n",
       "Gender Category                                   \n",
       "Female 0.0       187.076923   55.153846  15.840769\n",
       "       1.0       171.894737   65.000000  21.913158\n",
       "       2.0       177.027027   86.702703  27.462973\n",
       "       3.0       167.138554  123.192771  44.772048\n",
       "Male   0.0       186.095238   57.380952  16.578571\n",
       "       1.0       177.259259   71.259259  22.582222\n",
       "       2.0       175.406250   85.750000  27.671250\n",
       "       3.0       165.122699  122.196319  45.494110"
      ]
     },
     "execution_count": 18,
     "metadata": {},
     "output_type": "execute_result"
    }
   ],
   "source": [
    "# Question 2.7\n",
    "\n",
    "# group by gender, and category. Return the mean height, weight, and BMI\n",
    "df.groupby([\"Gender\", \"Category\"])[[\"Height\", \"Weight\", \"BMI\"]].mean()"
   ]
  },
  {
   "cell_type": "markdown",
   "metadata": {},
   "source": [
    "Return the rows which have a missing height, or weight, value."
   ]
  },
  {
   "cell_type": "code",
   "execution_count": 20,
   "metadata": {},
   "outputs": [
    {
     "data": {
      "text/html": [
       "<div>\n",
       "<style scoped>\n",
       "    .dataframe tbody tr th:only-of-type {\n",
       "        vertical-align: middle;\n",
       "    }\n",
       "\n",
       "    .dataframe tbody tr th {\n",
       "        vertical-align: top;\n",
       "    }\n",
       "\n",
       "    .dataframe thead th {\n",
       "        text-align: right;\n",
       "    }\n",
       "</style>\n",
       "<table border=\"1\" class=\"dataframe\">\n",
       "  <thead>\n",
       "    <tr style=\"text-align: right;\">\n",
       "      <th></th>\n",
       "      <th>Gender</th>\n",
       "      <th>Height</th>\n",
       "      <th>Weight</th>\n",
       "      <th>BMI</th>\n",
       "      <th>Category</th>\n",
       "    </tr>\n",
       "  </thead>\n",
       "  <tbody>\n",
       "    <tr>\n",
       "      <th>0</th>\n",
       "      <td>False</td>\n",
       "      <td>True</td>\n",
       "      <td>False</td>\n",
       "      <td>True</td>\n",
       "      <td>True</td>\n",
       "    </tr>\n",
       "    <tr>\n",
       "      <th>41</th>\n",
       "      <td>False</td>\n",
       "      <td>False</td>\n",
       "      <td>True</td>\n",
       "      <td>True</td>\n",
       "      <td>True</td>\n",
       "    </tr>\n",
       "    <tr>\n",
       "      <th>157</th>\n",
       "      <td>False</td>\n",
       "      <td>False</td>\n",
       "      <td>True</td>\n",
       "      <td>True</td>\n",
       "      <td>True</td>\n",
       "    </tr>\n",
       "  </tbody>\n",
       "</table>\n",
       "</div>"
      ],
      "text/plain": [
       "     Gender  Height  Weight   BMI  Category\n",
       "0     False    True   False  True      True\n",
       "41    False   False    True  True      True\n",
       "157   False   False    True  True      True"
      ]
     },
     "execution_count": 20,
     "metadata": {},
     "output_type": "execute_result"
    }
   ],
   "source": [
    "# creating a new dataframe which declares missing values as \"True\"\n",
    "missing_data = df.isna()\n",
    "\n",
    "# if the value is True, the data is missing; therefore, return it\n",
    "missing_data.loc[(missing_data.Weight == True) | (missing_data.Height == True)]"
   ]
  },
  {
   "cell_type": "markdown",
   "metadata": {},
   "source": [
    "Create two plots of the BMI dataframe."
   ]
  },
  {
   "cell_type": "code",
   "execution_count": 60,
   "metadata": {},
   "outputs": [],
   "source": [
    "# importing matplotlib\n",
    "import matplotlib.pyplot as plt\n",
    "\n",
    "# importing numpy\n",
    "import numpy as np"
   ]
  },
  {
   "cell_type": "code",
   "execution_count": 48,
   "metadata": {},
   "outputs": [
    {
     "data": {
      "text/html": [
       "<div>\n",
       "<style scoped>\n",
       "    .dataframe tbody tr th:only-of-type {\n",
       "        vertical-align: middle;\n",
       "    }\n",
       "\n",
       "    .dataframe tbody tr th {\n",
       "        vertical-align: top;\n",
       "    }\n",
       "\n",
       "    .dataframe thead th {\n",
       "        text-align: right;\n",
       "    }\n",
       "</style>\n",
       "<table border=\"1\" class=\"dataframe\">\n",
       "  <thead>\n",
       "    <tr style=\"text-align: right;\">\n",
       "      <th></th>\n",
       "      <th>Height</th>\n",
       "      <th>Weight</th>\n",
       "      <th>BMI</th>\n",
       "      <th>Category</th>\n",
       "    </tr>\n",
       "  </thead>\n",
       "  <tbody>\n",
       "    <tr>\n",
       "      <th>0</th>\n",
       "      <td>169.631148</td>\n",
       "      <td>106.094262</td>\n",
       "      <td>38.102428</td>\n",
       "      <td>2.386831</td>\n",
       "    </tr>\n",
       "    <tr>\n",
       "      <th>1</th>\n",
       "      <td>169.631148</td>\n",
       "      <td>106.094262</td>\n",
       "      <td>38.102428</td>\n",
       "      <td>2.386831</td>\n",
       "    </tr>\n",
       "    <tr>\n",
       "      <th>2</th>\n",
       "      <td>170.227451</td>\n",
       "      <td>105.688976</td>\n",
       "      <td>37.350079</td>\n",
       "      <td>2.401575</td>\n",
       "    </tr>\n",
       "    <tr>\n",
       "      <th>3</th>\n",
       "      <td>170.227451</td>\n",
       "      <td>105.688976</td>\n",
       "      <td>37.350079</td>\n",
       "      <td>2.401575</td>\n",
       "    </tr>\n",
       "    <tr>\n",
       "      <th>4</th>\n",
       "      <td>169.631148</td>\n",
       "      <td>106.094262</td>\n",
       "      <td>38.102428</td>\n",
       "      <td>2.386831</td>\n",
       "    </tr>\n",
       "  </tbody>\n",
       "</table>\n",
       "</div>"
      ],
      "text/plain": [
       "       Height      Weight        BMI  Category\n",
       "0  169.631148  106.094262  38.102428  2.386831\n",
       "1  169.631148  106.094262  38.102428  2.386831\n",
       "2  170.227451  105.688976  37.350079  2.401575\n",
       "3  170.227451  105.688976  37.350079  2.401575\n",
       "4  169.631148  106.094262  38.102428  2.386831"
      ]
     },
     "execution_count": 48,
     "metadata": {},
     "output_type": "execute_result"
    }
   ],
   "source": [
    "\"\"\"Cleaning Data\"\"\"\n",
    "\n",
    "# creating a new dataframe with the column means by gender, to be used to replace missing height and weight values\n",
    "height_weight_means = df.groupby(\"Gender\").transform(\"mean\")\n",
    "height_weight_means.head()"
   ]
  },
  {
   "cell_type": "code",
   "execution_count": 49,
   "metadata": {},
   "outputs": [
    {
     "data": {
      "text/html": [
       "<div>\n",
       "<style scoped>\n",
       "    .dataframe tbody tr th:only-of-type {\n",
       "        vertical-align: middle;\n",
       "    }\n",
       "\n",
       "    .dataframe tbody tr th {\n",
       "        vertical-align: top;\n",
       "    }\n",
       "\n",
       "    .dataframe thead th {\n",
       "        text-align: right;\n",
       "    }\n",
       "</style>\n",
       "<table border=\"1\" class=\"dataframe\">\n",
       "  <thead>\n",
       "    <tr style=\"text-align: right;\">\n",
       "      <th></th>\n",
       "      <th>Gender</th>\n",
       "      <th>Height</th>\n",
       "      <th>Weight</th>\n",
       "      <th>BMI</th>\n",
       "      <th>Category</th>\n",
       "    </tr>\n",
       "  </thead>\n",
       "  <tbody>\n",
       "    <tr>\n",
       "      <th>0</th>\n",
       "      <td>Male</td>\n",
       "      <td>169.631148</td>\n",
       "      <td>96.0</td>\n",
       "      <td>NaN</td>\n",
       "      <td>NaN</td>\n",
       "    </tr>\n",
       "    <tr>\n",
       "      <th>1</th>\n",
       "      <td>Male</td>\n",
       "      <td>189.000000</td>\n",
       "      <td>87.0</td>\n",
       "      <td>24.36</td>\n",
       "      <td>1.0</td>\n",
       "    </tr>\n",
       "    <tr>\n",
       "      <th>2</th>\n",
       "      <td>Female</td>\n",
       "      <td>185.000000</td>\n",
       "      <td>110.0</td>\n",
       "      <td>32.14</td>\n",
       "      <td>3.0</td>\n",
       "    </tr>\n",
       "    <tr>\n",
       "      <th>3</th>\n",
       "      <td>Female</td>\n",
       "      <td>195.000000</td>\n",
       "      <td>104.0</td>\n",
       "      <td>27.35</td>\n",
       "      <td>2.0</td>\n",
       "    </tr>\n",
       "    <tr>\n",
       "      <th>4</th>\n",
       "      <td>Male</td>\n",
       "      <td>149.000000</td>\n",
       "      <td>61.0</td>\n",
       "      <td>27.48</td>\n",
       "      <td>2.0</td>\n",
       "    </tr>\n",
       "  </tbody>\n",
       "</table>\n",
       "</div>"
      ],
      "text/plain": [
       "   Gender      Height  Weight    BMI  Category\n",
       "0    Male  169.631148    96.0    NaN       NaN\n",
       "1    Male  189.000000    87.0  24.36       1.0\n",
       "2  Female  185.000000   110.0  32.14       3.0\n",
       "3  Female  195.000000   104.0  27.35       2.0\n",
       "4    Male  149.000000    61.0  27.48       2.0"
      ]
     },
     "execution_count": 49,
     "metadata": {},
     "output_type": "execute_result"
    }
   ],
   "source": [
    "# creating a new dataframe with the replaced missing values, in order to leave the original dataframe, original\n",
    "\n",
    "clean_df = df\n",
    "\n",
    "# selecting the height and weight columns to write information to, and selecting them again to replace missing values\n",
    "clean_df.loc[:,[\"Height\", \"Weight\"]] = df.loc[:,[\"Height\", \"Weight\"]].fillna(height_weight_means)\n",
    "\n",
    "# printing the first 5 rows from the new dataframe\n",
    "clean_df.head()"
   ]
  },
  {
   "cell_type": "code",
   "execution_count": 58,
   "metadata": {},
   "outputs": [
    {
     "data": {
      "text/html": [
       "<div>\n",
       "<style scoped>\n",
       "    .dataframe tbody tr th:only-of-type {\n",
       "        vertical-align: middle;\n",
       "    }\n",
       "\n",
       "    .dataframe tbody tr th {\n",
       "        vertical-align: top;\n",
       "    }\n",
       "\n",
       "    .dataframe thead th {\n",
       "        text-align: right;\n",
       "    }\n",
       "</style>\n",
       "<table border=\"1\" class=\"dataframe\">\n",
       "  <thead>\n",
       "    <tr style=\"text-align: right;\">\n",
       "      <th></th>\n",
       "      <th>Gender</th>\n",
       "      <th>Height</th>\n",
       "      <th>Weight</th>\n",
       "      <th>BMI</th>\n",
       "      <th>Category</th>\n",
       "    </tr>\n",
       "  </thead>\n",
       "  <tbody>\n",
       "    <tr>\n",
       "      <th>0</th>\n",
       "      <td>Male</td>\n",
       "      <td>169.631148</td>\n",
       "      <td>96.0</td>\n",
       "      <td>33.36</td>\n",
       "      <td>NaN</td>\n",
       "    </tr>\n",
       "    <tr>\n",
       "      <th>1</th>\n",
       "      <td>Male</td>\n",
       "      <td>189.000000</td>\n",
       "      <td>87.0</td>\n",
       "      <td>24.36</td>\n",
       "      <td>1.0</td>\n",
       "    </tr>\n",
       "    <tr>\n",
       "      <th>2</th>\n",
       "      <td>Female</td>\n",
       "      <td>185.000000</td>\n",
       "      <td>110.0</td>\n",
       "      <td>32.14</td>\n",
       "      <td>3.0</td>\n",
       "    </tr>\n",
       "    <tr>\n",
       "      <th>3</th>\n",
       "      <td>Female</td>\n",
       "      <td>195.000000</td>\n",
       "      <td>104.0</td>\n",
       "      <td>27.35</td>\n",
       "      <td>2.0</td>\n",
       "    </tr>\n",
       "    <tr>\n",
       "      <th>4</th>\n",
       "      <td>Male</td>\n",
       "      <td>149.000000</td>\n",
       "      <td>61.0</td>\n",
       "      <td>27.48</td>\n",
       "      <td>2.0</td>\n",
       "    </tr>\n",
       "  </tbody>\n",
       "</table>\n",
       "</div>"
      ],
      "text/plain": [
       "   Gender      Height  Weight    BMI  Category\n",
       "0    Male  169.631148    96.0  33.36       NaN\n",
       "1    Male  189.000000    87.0  24.36       1.0\n",
       "2  Female  185.000000   110.0  32.14       3.0\n",
       "3  Female  195.000000   104.0  27.35       2.0\n",
       "4    Male  149.000000    61.0  27.48       2.0"
      ]
     },
     "execution_count": 58,
     "metadata": {},
     "output_type": "execute_result"
    }
   ],
   "source": [
    "# now that the missing height, and weight values are dealt with, we can replace the missing BMI values\n",
    "\n",
    "# write pandas height and weight columns to individual lists\n",
    "height_list = clean_df[\"Height\"].tolist()\n",
    "weight_list = clean_df[\"Weight\"].tolist()\n",
    "bmi_list = [] # stores output BMI values\n",
    "\n",
    "# using height and weight lists, calculate the bmi\n",
    "def calculate_bmi(height, weight):\n",
    "    \"\"\"Function to calculate BMI\"\"\"\n",
    "    bmi = weight/((height/100) ** 2) # height divided by 100 to convert it to metres\n",
    "    return(float('%.2f' % bmi)) # return bmi to 2 decimal places. float required, otherwise string is returned\n",
    "\n",
    "# iterate over height and weight lists in parallel\n",
    "for height, weight in zip(height_list, weight_list):\n",
    "    # append the calculated bmi values to bmi_list\n",
    "    bmi_list.append(calculate_bmi(height, weight))\n",
    "\n",
    "# insert bmi_list into the pandas df to replace the BMI column with missing values\n",
    "clean_df[\"BMI\"] = bmi_list\n",
    "\n",
    "# print the first 5 rows of the dataframe\n",
    "clean_df.head()"
   ]
  },
  {
   "cell_type": "code",
   "execution_count": 61,
   "metadata": {},
   "outputs": [
    {
     "data": {
      "image/png": "[encoded data removed]",
      "text/plain": [
       "<Figure size 432x288 with 1 Axes>"
      ]
     },
     "metadata": {
      "needs_background": "light"
     },
     "output_type": "display_data"
    }
   ],
   "source": [
    "# Plotting a bar chart with the mean BMI per gender, with standard deviation\n",
    "\n",
    "# list of x-axis labels\n",
    "x_axis = [\"Male\", \"Female\"]\n",
    "\n",
    "# list of y-axis values parallel to x-axis labels\n",
    "y_axis = [np.mean(clean_df[\"BMI\"].loc[clean_df[\"Gender\"]==\"Male\"]), np.mean(clean_df[\"BMI\"].loc[clean_df[\"Gender\"]==\"Female\"])]\n",
    "\n",
    "# calculating the standard deviation for the BMIs, in a list that runs parallel to the x-axis labels\n",
    "std = [(np.std(clean_df[\"BMI\"].loc[clean_df[\"Gender\"]==\"Male\"])), (np.std(clean_df[\"BMI\"].loc[clean_df[\"Gender\"]==\"Male\"]))]\n",
    "\n",
    "# formatting bar chart\n",
    "plt.bar(x_axis, y_axis, yerr=std, color=['red', 'pink'], ec='black', ecolor='black', capsize=5)\n",
    "plt.title(\"St.Dev Bar chart for the mean BMI of females, and males\")\n",
    "plt.ylabel(\"Mean BMI\")\n",
    "\n",
    "# displaying bar chart\n",
    "plt.show()\n"
   ]
  },
  {
   "cell_type": "code",
   "execution_count": 62,
   "metadata": {},
   "outputs": [
    {
     "data": {
      "image/png": "[encoded data removed]",
      "text/plain": [
       "<Figure size 432x288 with 1 Axes>"
      ]
     },
     "metadata": {
      "needs_background": "light"
     },
     "output_type": "display_data"
    }
   ],
   "source": [
    "# Plotting a histogram of BMI frequency by gender\n",
    "\n",
    "# plotting the male histogram\n",
    "plt.hist(clean_df[\"BMI\"].loc[clean_df[\"Gender\"] == \"Male\"],  alpha=0.5, label=\"Male BMI\", color='red')\n",
    "\n",
    "# plotting the female histogram\n",
    "plt.hist(clean_df[\"BMI\"].loc[clean_df[\"Gender\"] == \"Female\"],  alpha=0.5, label=\"Female BMI\", color='pink')\n",
    "\n",
    "# setting histogram parameters\n",
    "plt.xlabel(\"BMI\")\n",
    "plt.ylabel(\"Frequency\")\n",
    "plt.title(\"The distribution of BMI across gender\")\n",
    "plt.legend(loc=\"upper right\")\n",
    "\n",
    "# displaying the histogram\n",
    "plt.show()"
   ]
  }
 ],
 "metadata": {
  "kernelspec": {
   "display_name": "Python 3",
   "language": "python",
   "name": "python3"
  },
  "language_info": {
   "codemirror_mode": {
    "name": "ipython",
    "version": 3
   },
   "file_extension": ".py",
   "mimetype": "text/x-python",
   "name": "python",
   "nbconvert_exporter": "python",
   "pygments_lexer": "ipython3",
   "version": "3.8.5"
  }
 },
 "nbformat": 4,
 "nbformat_minor": 4
}
